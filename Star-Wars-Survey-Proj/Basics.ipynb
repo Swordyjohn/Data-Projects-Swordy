{
 "cells": [
  {
   "cell_type": "code",
   "execution_count": 1,
   "metadata": {
    "collapsed": false
   },
   "outputs": [
    {
     "name": "stdout",
     "output_type": "stream",
     "text": [
      "   RespondentID Have you seen any of the 6 films in the Star Wars franchise?  \\\n",
      "0           NaN                                           Response             \n",
      "1  3.292880e+09                                                Yes             \n",
      "2  3.292880e+09                                                 No             \n",
      "3  3.292765e+09                                                Yes             \n",
      "4  3.292763e+09                                                Yes             \n",
      "5  3.292731e+09                                                Yes             \n",
      "6  3.292719e+09                                                Yes             \n",
      "7  3.292685e+09                                                Yes             \n",
      "8  3.292664e+09                                                Yes             \n",
      "9  3.292654e+09                                                Yes             \n",
      "\n",
      "  Do you consider yourself to be a fan of the Star Wars film franchise?  \\\n",
      "0                                           Response                      \n",
      "1                                                Yes                      \n",
      "2                                                NaN                      \n",
      "3                                                 No                      \n",
      "4                                                Yes                      \n",
      "5                                                Yes                      \n",
      "6                                                Yes                      \n",
      "7                                                Yes                      \n",
      "8                                                Yes                      \n",
      "9                                                Yes                      \n",
      "\n",
      "  Which of the following Star Wars films have you seen? Please select all that apply.  \\\n",
      "0           Star Wars: Episode I  The Phantom Menace                                    \n",
      "1           Star Wars: Episode I  The Phantom Menace                                    \n",
      "2                                                NaN                                    \n",
      "3           Star Wars: Episode I  The Phantom Menace                                    \n",
      "4           Star Wars: Episode I  The Phantom Menace                                    \n",
      "5           Star Wars: Episode I  The Phantom Menace                                    \n",
      "6           Star Wars: Episode I  The Phantom Menace                                    \n",
      "7           Star Wars: Episode I  The Phantom Menace                                    \n",
      "8           Star Wars: Episode I  The Phantom Menace                                    \n",
      "9           Star Wars: Episode I  The Phantom Menace                                    \n",
      "\n",
      "                                    Unnamed: 4  \\\n",
      "0  Star Wars: Episode II  Attack of the Clones   \n",
      "1  Star Wars: Episode II  Attack of the Clones   \n",
      "2                                          NaN   \n",
      "3  Star Wars: Episode II  Attack of the Clones   \n",
      "4  Star Wars: Episode II  Attack of the Clones   \n",
      "5  Star Wars: Episode II  Attack of the Clones   \n",
      "6  Star Wars: Episode II  Attack of the Clones   \n",
      "7  Star Wars: Episode II  Attack of the Clones   \n",
      "8  Star Wars: Episode II  Attack of the Clones   \n",
      "9  Star Wars: Episode II  Attack of the Clones   \n",
      "\n",
      "                                    Unnamed: 5  \\\n",
      "0  Star Wars: Episode III  Revenge of the Sith   \n",
      "1  Star Wars: Episode III  Revenge of the Sith   \n",
      "2                                          NaN   \n",
      "3  Star Wars: Episode III  Revenge of the Sith   \n",
      "4  Star Wars: Episode III  Revenge of the Sith   \n",
      "5  Star Wars: Episode III  Revenge of the Sith   \n",
      "6  Star Wars: Episode III  Revenge of the Sith   \n",
      "7  Star Wars: Episode III  Revenge of the Sith   \n",
      "8  Star Wars: Episode III  Revenge of the Sith   \n",
      "9  Star Wars: Episode III  Revenge of the Sith   \n",
      "\n",
      "                          Unnamed: 6  \\\n",
      "0  Star Wars: Episode IV  A New Hope   \n",
      "1  Star Wars: Episode IV  A New Hope   \n",
      "2                                NaN   \n",
      "3                                NaN   \n",
      "4  Star Wars: Episode IV  A New Hope   \n",
      "5  Star Wars: Episode IV  A New Hope   \n",
      "6  Star Wars: Episode IV  A New Hope   \n",
      "7  Star Wars: Episode IV  A New Hope   \n",
      "8  Star Wars: Episode IV  A New Hope   \n",
      "9  Star Wars: Episode IV  A New Hope   \n",
      "\n",
      "                                     Unnamed: 7  \\\n",
      "0  Star Wars: Episode V The Empire Strikes Back   \n",
      "1  Star Wars: Episode V The Empire Strikes Back   \n",
      "2                                           NaN   \n",
      "3                                           NaN   \n",
      "4  Star Wars: Episode V The Empire Strikes Back   \n",
      "5  Star Wars: Episode V The Empire Strikes Back   \n",
      "6  Star Wars: Episode V The Empire Strikes Back   \n",
      "7  Star Wars: Episode V The Empire Strikes Back   \n",
      "8  Star Wars: Episode V The Empire Strikes Back   \n",
      "9  Star Wars: Episode V The Empire Strikes Back   \n",
      "\n",
      "                                 Unnamed: 8  \\\n",
      "0  Star Wars: Episode VI Return of the Jedi   \n",
      "1  Star Wars: Episode VI Return of the Jedi   \n",
      "2                                       NaN   \n",
      "3                                       NaN   \n",
      "4  Star Wars: Episode VI Return of the Jedi   \n",
      "5  Star Wars: Episode VI Return of the Jedi   \n",
      "6  Star Wars: Episode VI Return of the Jedi   \n",
      "7  Star Wars: Episode VI Return of the Jedi   \n",
      "8  Star Wars: Episode VI Return of the Jedi   \n",
      "9  Star Wars: Episode VI Return of the Jedi   \n",
      "\n",
      "  Please rank the Star Wars films in order of preference with 1 being your favorite film in the franchise and 6 being your least favorite film.  \\\n",
      "0           Star Wars: Episode I  The Phantom Menace                                                                                              \n",
      "1                                                  3                                                                                              \n",
      "2                                                NaN                                                                                              \n",
      "3                                                  1                                                                                              \n",
      "4                                                  5                                                                                              \n",
      "5                                                  5                                                                                              \n",
      "6                                                  1                                                                                              \n",
      "7                                                  6                                                                                              \n",
      "8                                                  4                                                                                              \n",
      "9                                                  5                                                                                              \n",
      "\n",
      "            ...                    Unnamed: 28  \\\n",
      "0           ...                           Yoda   \n",
      "1           ...                 Very favorably   \n",
      "2           ...                            NaN   \n",
      "3           ...               Unfamiliar (N/A)   \n",
      "4           ...                 Very favorably   \n",
      "5           ...             Somewhat favorably   \n",
      "6           ...                 Very favorably   \n",
      "7           ...                 Very favorably   \n",
      "8           ...                 Very favorably   \n",
      "9           ...             Somewhat favorably   \n",
      "\n",
      "        Which character shot first?  \\\n",
      "0                          Response   \n",
      "1  I don't understand this question   \n",
      "2                               NaN   \n",
      "3  I don't understand this question   \n",
      "4  I don't understand this question   \n",
      "5                            Greedo   \n",
      "6                               Han   \n",
      "7                               Han   \n",
      "8                               Han   \n",
      "9                               Han   \n",
      "\n",
      "  Are you familiar with the Expanded Universe?  \\\n",
      "0                                     Response   \n",
      "1                                          Yes   \n",
      "2                                          NaN   \n",
      "3                                           No   \n",
      "4                                           No   \n",
      "5                                          Yes   \n",
      "6                                          Yes   \n",
      "7                                          Yes   \n",
      "8                                           No   \n",
      "9                                           No   \n",
      "\n",
      "  Do you consider yourself to be a fan of the Expanded Universe?ÂÃ¦  \\\n",
      "0                                           Response                   \n",
      "1                                                 No                   \n",
      "2                                                NaN                   \n",
      "3                                                NaN                   \n",
      "4                                                NaN                   \n",
      "5                                                 No                   \n",
      "6                                                 No                   \n",
      "7                                                 No                   \n",
      "8                                                NaN                   \n",
      "9                                                NaN                   \n",
      "\n",
      "  Do you consider yourself to be a fan of the Star Trek franchise?    Gender  \\\n",
      "0                                           Response                Response   \n",
      "1                                                 No                    Male   \n",
      "2                                                Yes                    Male   \n",
      "3                                                 No                    Male   \n",
      "4                                                Yes                    Male   \n",
      "5                                                 No                    Male   \n",
      "6                                                Yes                    Male   \n",
      "7                                                 No                    Male   \n",
      "8                                                Yes                    Male   \n",
      "9                                                 No                    Male   \n",
      "\n",
      "        Age     Household Income                         Education  \\\n",
      "0  Response             Response                          Response   \n",
      "1     18-29                  NaN                High school degree   \n",
      "2     18-29         $0 - $24,999                   Bachelor degree   \n",
      "3     18-29         $0 - $24,999                High school degree   \n",
      "4     18-29  $100,000 - $149,999  Some college or Associate degree   \n",
      "5     18-29  $100,000 - $149,999  Some college or Associate degree   \n",
      "6     18-29    $25,000 - $49,999                   Bachelor degree   \n",
      "7     18-29                  NaN                High school degree   \n",
      "8     18-29                  NaN                High school degree   \n",
      "9     18-29         $0 - $24,999  Some college or Associate degree   \n",
      "\n",
      "  Location (Census Region)  \n",
      "0                 Response  \n",
      "1           South Atlantic  \n",
      "2       West South Central  \n",
      "3       West North Central  \n",
      "4       West North Central  \n",
      "5       West North Central  \n",
      "6          Middle Atlantic  \n",
      "7       East North Central  \n",
      "8           South Atlantic  \n",
      "9           South Atlantic  \n",
      "\n",
      "[10 rows x 38 columns]\n",
      "Index(['RespondentID',\n",
      "       'Have you seen any of the 6 films in the Star Wars franchise?',\n",
      "       'Do you consider yourself to be a fan of the Star Wars film franchise?',\n",
      "       'Which of the following Star Wars films have you seen? Please select all that apply.',\n",
      "       'Unnamed: 4', 'Unnamed: 5', 'Unnamed: 6', 'Unnamed: 7', 'Unnamed: 8',\n",
      "       'Please rank the Star Wars films in order of preference with 1 being your favorite film in the franchise and 6 being your least favorite film.',\n",
      "       'Unnamed: 10', 'Unnamed: 11', 'Unnamed: 12', 'Unnamed: 13',\n",
      "       'Unnamed: 14',\n",
      "       'Please state whether you view the following characters favorably, unfavorably, or are unfamiliar with him/her.',\n",
      "       'Unnamed: 16', 'Unnamed: 17', 'Unnamed: 18', 'Unnamed: 19',\n",
      "       'Unnamed: 20', 'Unnamed: 21', 'Unnamed: 22', 'Unnamed: 23',\n",
      "       'Unnamed: 24', 'Unnamed: 25', 'Unnamed: 26', 'Unnamed: 27',\n",
      "       'Unnamed: 28', 'Which character shot first?',\n",
      "       'Are you familiar with the Expanded Universe?',\n",
      "       'Do you consider yourself to be a fan of the Expanded Universe?ÂÃ¦',\n",
      "       'Do you consider yourself to be a fan of the Star Trek franchise?',\n",
      "       'Gender', 'Age', 'Household Income', 'Education',\n",
      "       'Location (Census Region)'],\n",
      "      dtype='object')\n"
     ]
    }
   ],
   "source": [
    "%matplotlib inline\n",
    "import pandas as pd\n",
    "import numpy as np\n",
    "import matplotlib.pyplot as plt\n",
    "star_wars = pd.read_csv(\"star_wars.csv\", encoding=\"ISO-8859-1\")\n",
    "print(star_wars.head(10))\n",
    "print(star_wars.columns)\n",
    "star_wars = star_wars.dropna()"
   ]
  },
  {
   "cell_type": "code",
   "execution_count": 2,
   "metadata": {
    "collapsed": false
   },
   "outputs": [],
   "source": [
    "yes_no = {'Yes':True, 'No':False}\n",
    "six_films ='Have you seen any of the 6 films in the Star Wars franchise?'\n",
    "fan = 'Do you consider yourself to be a fan of the Star Wars film franchise?'\n",
    "star_wars[six_films] = star_wars[six_films].map(yes_no)\n",
    "star_wars[fan] = star_wars[fan].map(yes_no)\n"
   ]
  },
  {
   "cell_type": "code",
   "execution_count": 3,
   "metadata": {
    "collapsed": true
   },
   "outputs": [],
   "source": [
    "bool_dict={\"Star Wars: Episode I  The Phantom Menace\": True, 'Star Wars: Episode II Attack of the Clones': True, 'Star Wars: Episode III Revenge of the Sith':True, 'Star Wars: Episode IV A New Hope':True, 'Star Wars: Episode V The Empire Strikes Back':True, 'Star Wars: Episode VI Return of the Jedi':True, 'NaN':False}\n",
    "rename_dict={\"Which of the following Star Wars films have you seen? Please select all that apply.\": 'seen_1', 'Star Wars: Episode II Attack of the Clones': 'seen_2', 'Star Wars: Episode III Revenge of the Sith':'seen_3', 'Star Wars: Episode IV A New Hope':'seen_4', 'Star Wars: Episode V The Empire Strikes Back':'seen_5', 'Star Wars: Episode VI Return of the Jedi':'seen_6'}\n",
    "col_names = star_wars.columns[3:9]\n",
    "for col in col_names:\n",
    "    star_wars[col] = star_wars[col].map(bool_dict)\n",
    "star_wars = star_wars.rename(columns=rename_dict)"
   ]
  },
  {
   "cell_type": "code",
   "execution_count": 4,
   "metadata": {
    "collapsed": true
   },
   "outputs": [],
   "source": [
    "star_wars[star_wars.columns[9:15]] = star_wars[star_wars.columns[9:15]].astype(float)\n",
    "rank_rename = {'Please rank the Star Wars films in order of preference with 1 being your favorite film in the franchise and 6 being your least favorite film.': 'ranking_1', 'Unnamed: 10':'ranking_2','Unnamed: 11':'ranking_3','Unnamed: 12':'ranking_4','Unnamed: 13':'ranking_5','Unnamed: 14':'ranking_6'}\n",
    "star_wars = star_wars.rename(columns=rank_rename)"
   ]
  },
  {
   "cell_type": "code",
   "execution_count": 5,
   "metadata": {
    "collapsed": false
   },
   "outputs": [
    {
     "data": {
      "image/png": "[encoded data removed]",
      "text/plain": [
       "<matplotlib.figure.Figure at 0x7f8fac2899b0>"
      ]
     },
     "metadata": {},
     "output_type": "display_data"
    }
   ],
   "source": [
    "rankings_cols = star_wars.columns[9:15]\n",
    "ranking_means = []\n",
    "for col in rankings_cols:\n",
    "    ranking_means.append(star_wars[col].mean())\n",
    "y_pos = np.arange(len(ranking_means))\n",
    "plt.bar(y_pos, ranking_means, align='center', alpha = 0.5)\n",
    "plt.title('Average Ranking of each Movie')\n",
    "plt.show()"
   ]
  },
  {
   "cell_type": "code",
   "execution_count": 6,
   "metadata": {
    "collapsed": false
   },
   "outputs": [
    {
     "data": {
      "image/png": "[encoded data removed]",
      "text/plain": [
       "<matplotlib.figure.Figure at 0x7f8fac4e6048>"
      ]
     },
     "metadata": {},
     "output_type": "display_data"
    }
   ],
   "source": [
    "col_names = star_wars.columns[3:9]\n",
    "seen_sum = []\n",
    "for col in col_names:\n",
    "    seen_sum.append(star_wars[col].sum())\n",
    "y_pos_seen = np.arange(len(seen_sum))\n",
    "plt.bar(y_pos_seen, seen_sum, align='center', alpha = 0.5)\n",
    "plt.title('Sum of Movies seen by survey Participants')\n",
    "plt.show()"
   ]
  },
  {
   "cell_type": "code",
   "execution_count": 10,
   "metadata": {
    "collapsed": false
   },
   "outputs": [
    {
     "data": {
      "image/png": "[encoded data removed]",
      "text/plain": [
       "<matplotlib.figure.Figure at 0x7f8fac289a20>"
      ]
     },
     "metadata": {},
     "output_type": "display_data"
    }
   ],
   "source": [
    "males = star_wars[star_wars[\"Gender\"] == \"Male\"]\n",
    "females = star_wars[star_wars[\"Gender\"] == \"Female\"]\n",
    "rankings_cols = star_wars.columns[9:15]\n",
    "ranking_means = []\n",
    "for col in rankings_cols:\n",
    "    ranking_means.append(males[col].mean())\n",
    "y_pos = np.arange(len(ranking_means))\n",
    "plt.bar(y_pos, ranking_means, align='center', alpha = 0.5)\n",
    "plt.title('Average Ranking of each Movie by Males')\n",
    "plt.show()"
   ]
  },
  {
   "cell_type": "code",
   "execution_count": null,
   "metadata": {
    "collapsed": true
   },
   "outputs": [],
   "source": [
    "rankings_cols = star_wars.columns[9:15]\n",
    "ranking_means = []\n",
    "for col in rankings_cols:\n",
    "    ranking_means.append(females[col].mean())\n",
    "y_pos = np.arange(len(ranking_means))\n",
    "plt.bar(y_pos, ranking_means, align='center', alpha = 0.5)\n",
    "plt.title('Average Ranking of each Movie by Females')\n",
    "plt.show()"
   ]
  }
 ],
 "metadata": {
  "kernelspec": {
   "display_name": "Python 3",
   "language": "python",
   "name": "python3"
  },
  "language_info": {
   "codemirror_mode": {
    "name": "ipython",
    "version": 3
   },
   "file_extension": ".py",
   "mimetype": "text/x-python",
   "name": "python",
   "nbconvert_exporter": "python",
   "pygments_lexer": "ipython3",
   "version": "3.4.3"
  }
 },
 "nbformat": 4,
 "nbformat_minor": 0
}
